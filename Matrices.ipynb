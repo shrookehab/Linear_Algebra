{
 "cells": [
  {
   "cell_type": "markdown",
   "id": "c43e6a4c",
   "metadata": {},
   "source": [
    "# Name: Shrook Ehab Attia"
   ]
  },
  {
   "cell_type": "markdown",
   "id": "a83b374d",
   "metadata": {},
   "source": [
    "# Group No. : 1"
   ]
  },
  {
   "cell_type": "markdown",
   "id": "7ae325d3",
   "metadata": {},
   "source": [
    "# Lecturer Name: DR. Randa"
   ]
  },
  {
   "cell_type": "code",
   "execution_count": 99,
   "id": "487a6e49",
   "metadata": {},
   "outputs": [],
   "source": [
    "import numpy as np"
   ]
  },
  {
   "cell_type": "markdown",
   "id": "01974cd4",
   "metadata": {},
   "source": [
    "# Question 1: \n",
    "### Implement the function S = IsSquare(A) that checks the dimension of input matrix A, and returns 1 if the input matrix is square and 0 otherwise."
   ]
  },
  {
   "cell_type": "code",
   "execution_count": 100,
   "id": "996b8add",
   "metadata": {},
   "outputs": [
    {
     "name": "stdout",
     "output_type": "stream",
     "text": [
      "==========3x2 Matrix============\n",
      "Matrix A: \n",
      "[[2. 2.]\n",
      " [2. 1.]\n",
      " [5. 5.]]\n",
      "The dimension of Matrix A is Square?:  0\n",
      "*********************************\n",
      "==========2x2 Matrix============\n",
      "Matrix A: \n",
      "[[2. 2.]\n",
      " [5. 5.]]\n",
      "The dimension of Matrix A is Square?:  1\n"
     ]
    }
   ],
   "source": [
    "def IsSquare(A):\n",
    "    noOfRows = len(A)\n",
    "    for row in A:\n",
    "        if len(row) != noOfRows:\n",
    "            return 0 #matrix is not square\n",
    "        return 1 #matrix is square\n",
    "    \n",
    "a = np.array([[2.0,2.0],[2.0,1.0],[5.0,5.0]], dtype=np.float64)\n",
    "print('==========3x2 Matrix============')\n",
    "print('Matrix A: ')\n",
    "print(a)\n",
    "print('The dimension of Matrix A is Square?: ', IsSquare(a))\n",
    "print('*********************************')\n",
    "print('==========2x2 Matrix============')\n",
    "a = np.array([[2.0,2.0],[5.0,5.0]], dtype=np.float64)\n",
    "print('Matrix A: ')\n",
    "print(a)\n",
    "print('The dimension of Matrix A is Square?: ', IsSquare(a))"
   ]
  },
  {
   "cell_type": "markdown",
   "id": "2b7dbdab",
   "metadata": {},
   "source": [
    "# Question 2: \n",
    "### Implement the function N = Props(A) that checks the properties of the input matrix A:"
   ]
  },
  {
   "cell_type": "markdown",
   "id": "c633c04e",
   "metadata": {},
   "source": [
    " ### 2.1. checks the input matrix is square."
   ]
  },
  {
   "cell_type": "markdown",
   "id": "8065dd21",
   "metadata": {},
   "source": [
    "### 2.2. computes the matrix rank, prints the rank value (hint: use numpy method)."
   ]
  },
  {
   "cell_type": "markdown",
   "id": "ef8ec83d",
   "metadata": {},
   "source": [
    "### 2.3. computes the matrix determinant (hint: use numpy method) and prints its value."
   ]
  },
  {
   "cell_type": "markdown",
   "id": "73d5b3a2",
   "metadata": {},
   "source": [
    "### 2.4. returns 1 if the input matrix has rank = no. of rows in matrix A and 0 otherwise."
   ]
  },
  {
   "cell_type": "code",
   "execution_count": 101,
   "id": "4893dd94",
   "metadata": {},
   "outputs": [
    {
     "name": "stdout",
     "output_type": "stream",
     "text": [
      "Matrix A: \n",
      "[[2. 2.]\n",
      " [5. 5.]]\n",
      "*********************************\n",
      "==========Matrix Properties============\n",
      "The Matrix is Square\n",
      "Matrix Determinant =  5.551115123125802e-16\n",
      "Matrix Rank =  1\n",
      "If The Rank = The Number of Rows?:  0\n",
      "*********************************\n",
      "Matrix A: \n",
      "[[2. 2.]\n",
      " [2. 1.]\n",
      " [5. 5.]]\n",
      "*********************************\n",
      "==========Matrix Properties============\n",
      "The Matrix is not Square\n",
      "Matrix Rank =  2\n",
      "If The Rank = The Number of Rows?:  0\n"
     ]
    }
   ],
   "source": [
    "def Props(A):\n",
    "    if IsSquare(A):\n",
    "        print(\"The Matrix is Square\")\n",
    "        print('Matrix Determinant = ', np.linalg.det(A))\n",
    "        \n",
    "    else:\n",
    "        print(\"The Matrix is not Square\")\n",
    "    rank = np.linalg.matrix_rank(A)\n",
    "    print('Matrix Rank = ', rank)\n",
    "    noOfRows = len(A)\n",
    "    if noOfRows == rank:\n",
    "        return 1 #matrix has rank = no. of rows in matrix A\n",
    "    return 0\n",
    "\n",
    "a = np.array([[2.0,2.0],[5.0,5.0]], dtype=np.float64)\n",
    "print('Matrix A: ')\n",
    "print(a)\n",
    "print('*********************************')\n",
    "print('==========Matrix Properties============')\n",
    "print('If The Rank = The Number of Rows?: ', Props(a))\n",
    "print('*********************************')\n",
    "a = np.array([[2.0,2.0],[2.0,1.0],[5.0,5.0]], dtype=np.float64)\n",
    "print('Matrix A: ')\n",
    "print(a)\n",
    "print('*********************************')\n",
    "print('==========Matrix Properties============')\n",
    "print('If The Rank = The Number of Rows?: ', Props(a))"
   ]
  },
  {
   "cell_type": "markdown",
   "id": "70df87d3",
   "metadata": {},
   "source": [
    "# Question 3:\n",
    "### Compose the equations corresponding to the two word-problems below and put them in matrix-vector form AX = B. Call \"Props\" to find more about their properties."
   ]
  },
  {
   "cell_type": "markdown",
   "id": "5a470bae",
   "metadata": {},
   "source": [
    "### 1-Compute AX = B (for System 1):"
   ]
  },
  {
   "cell_type": "code",
   "execution_count": 102,
   "id": "2c21e72f",
   "metadata": {},
   "outputs": [
    {
     "name": "stdout",
     "output_type": "stream",
     "text": [
      "Matrix A: \n",
      "[[ 1.5   5.75  2.6 ]\n",
      " [ 1.    1.    1.  ]\n",
      " [ 0.    1.   -1.  ]]\n",
      "==========Matrix Properties============\n",
      "The Matrix is Square\n",
      "Matrix Determinant =  5.35\n",
      "Matrix Rank =  3\n",
      "If The Rank = The Number of Rows?:  1\n",
      "*********************************\n",
      "Matrix B: \n",
      "[[589.5]\n",
      " [200. ]\n",
      " [-20. ]]\n",
      "==========Matrix Properties============\n",
      "The Matrix is not Square\n",
      "Matrix Rank =  1\n",
      "If The Rank = The Number of Rows?:  0\n",
      "*********************************\n",
      "Matrix X: \n",
      "[[80.]\n",
      " [50.]\n",
      " [70.]]\n",
      "==========Matrix Properties============\n",
      "The Matrix is not Square\n",
      "Matrix Rank =  1\n",
      "If The Rank = The Number of Rows?:  0\n"
     ]
    }
   ],
   "source": [
    "A = np.array([[1.5,5.75,2.6], [1,1,1], [0,1,-1]], dtype=np.float64)\n",
    "B = np.array([[589.5],[200],[-20]], dtype=np.float64)\n",
    "X = np.dot(np.linalg.inv(A), B) \n",
    "print('Matrix A: ')\n",
    "print(A)\n",
    "print('==========Matrix Properties============')\n",
    "print('If The Rank = The Number of Rows?: ', Props(A))\n",
    "print('*********************************')\n",
    "print('Matrix B: ')\n",
    "print(B)\n",
    "print('==========Matrix Properties============')\n",
    "print('If The Rank = The Number of Rows?: ', Props(B))\n",
    "print('*********************************')\n",
    "if np.linalg.det(A) == 0:\n",
    "    print('X is A Singular matrix!!')\n",
    "else:\n",
    "    X = np.dot(np.linalg.inv(A), B) \n",
    "    print('Matrix X: ')\n",
    "    print(X)\n",
    "    print('==========Matrix Properties============')\n",
    "    print('If The Rank = The Number of Rows?: ', Props(X))"
   ]
  },
  {
   "cell_type": "markdown",
   "id": "6a47537b",
   "metadata": {},
   "source": [
    "### 2-Compute AX = B (for System 2):"
   ]
  },
  {
   "cell_type": "code",
   "execution_count": 103,
   "id": "ef2f74a6",
   "metadata": {},
   "outputs": [
    {
     "name": "stdout",
     "output_type": "stream",
     "text": [
      "Matrix A: \n",
      "[[ 2.  1. -3.]\n",
      " [ 4.  2. -6.]\n",
      " [ 1. -1.  1.]]\n",
      "==========Matrix Properties============\n",
      "The Matrix is Square\n",
      "Matrix Determinant =  0.0\n",
      "Matrix Rank =  2\n",
      "If The Rank = The Number of Rows?:  0\n",
      "*********************************\n",
      "Matrix B: \n",
      "[[0.]\n",
      " [0.]\n",
      " [0.]]\n",
      "==========Matrix Properties============\n",
      "The Matrix is not Square\n",
      "Matrix Rank =  0\n",
      "If The Rank = The Number of Rows?:  0\n",
      "*********************************\n",
      "X is A Singular matrix!!\n"
     ]
    }
   ],
   "source": [
    "A = np.array([[2,1,-3], [4,2,-6], [1,-1,1]], dtype=np.float64)\n",
    "B = np.array([[0],[0],[0]], dtype=np.float64)\n",
    "print('Matrix A: ')\n",
    "print(A)\n",
    "print('==========Matrix Properties============')\n",
    "print('If The Rank = The Number of Rows?: ', Props(A))\n",
    "print('*********************************')\n",
    "print('Matrix B: ')\n",
    "print(B)\n",
    "print('==========Matrix Properties============')\n",
    "print('If The Rank = The Number of Rows?: ', Props(B))\n",
    "print('*********************************')\n",
    "if np.linalg.det(A) == 0: #if det(A)=0 then A is not invertible \n",
    "    print('X is A Singular matrix!!')\n",
    "else:\n",
    "    X = np.dot(np.linalg.inv(A), B) \n",
    "    print('Matrix X: ')\n",
    "    print(X)\n",
    "    print('==========Matrix Properties============')\n",
    "    print('If The Rank = The Number of Rows?: ', Props(X))"
   ]
  },
  {
   "cell_type": "markdown",
   "id": "5de8c844",
   "metadata": {},
   "source": [
    "# Question 4:\n",
    "###  Implement the function reducerow(C,pivotrow,targetrow,pivot):"
   ]
  },
  {
   "cell_type": "markdown",
   "id": "4a6e15d8",
   "metadata": {},
   "source": [
    "### 4.1. Takes an input matrix C, index of a pivot row vector, index of a target row vector, index of a pivot element. It returns nothing but overrides the matrix C.\n",
    "### 4.2. Checks if the pivot element = 1 otherwise perform vector operation to make it = 1.\n",
    "### 4.3. Uses vector operations using the two vectors “pivotrow” & “targetrow” to make the element corresponding to the pivot element in the targetrow vector = 0."
   ]
  },
  {
   "cell_type": "code",
   "execution_count": 104,
   "id": "6469e129",
   "metadata": {},
   "outputs": [
    {
     "name": "stdout",
     "output_type": "stream",
     "text": [
      "Matrix C before Applying RREF: \n",
      "[[ 2. -1. -6.]\n",
      " [-2.  1.  2.]\n",
      " [ 3. -4.  2.]]\n",
      "*********************************\n",
      "Matrix C after Applying RREF for the first time: \n",
      "[[ 1.  -0.5 -3. ]\n",
      " [-2.   1.   2. ]\n",
      " [ 0.  -2.5 11. ]]\n"
     ]
    }
   ],
   "source": [
    "def reducerow(C, pivotrow, targetrow, pivot):\n",
    "    if C[pivotrow, pivot] != 0 and C[pivotrow, pivot] != 1: #Check for pivot is not equal to 1 or zero as we can't divide by zero\n",
    "        C[pivotrow] = C[pivotrow] / C[pivotrow, pivot]\n",
    "    if C[targetrow, pivot] !=0: #check that the targetrow is not already zero to minimize the no. of steps\n",
    "        C[targetrow] = C[targetrow] - C[targetrow, pivot] * C[pivotrow]\n",
    "\n",
    "C = np.array([[2,-1,-6],[-2,1,2],[3,-4,2]], dtype=np.float64)\n",
    "print(\"Matrix C before Applying RREF: \")\n",
    "print(C)\n",
    "reducerow(C, 0, 2, 0)\n",
    "print('*********************************')\n",
    "print(\"Matrix C after Applying RREF for the first time: \")\n",
    "print(C)"
   ]
  },
  {
   "cell_type": "markdown",
   "id": "aef79f55",
   "metadata": {},
   "source": [
    "# Question 5:\n",
    "### Implement the function f = SolveLinearSystem (A,B):\n",
    "### 5.1. Takes as an input coefficient matrix A and target vector B.\n",
    "### 5.2. Adjoins A and B then perform row reduction operations using “reducerow” trying to convert it A’s columns into an identity matrix.\n",
    "### 5.3. returns f = the summation of A’s columns elements after row reduction."
   ]
  },
  {
   "cell_type": "code",
   "execution_count": 105,
   "id": "225e5c5a",
   "metadata": {},
   "outputs": [
    {
     "name": "stdout",
     "output_type": "stream",
     "text": [
      "Matrix A: \n",
      "[[ 2.  0. -6.]\n",
      " [ 0.  1.  2.]\n",
      " [ 3.  6. -2.]]\n",
      "*********************************\n",
      "Matrix B: \n",
      "[[ 2. -1. -6.]\n",
      " [-2.  1.  2.]\n",
      " [ 3. -4.  2.]]\n",
      "*********************************\n",
      "Matrix C After Applying RREF: \n",
      "[[ 1.   0.   0.  -6.2  4.6 -2.4]\n",
      " [ 0.   1.   0.   2.8 -2.4  1.6]\n",
      " [-0.  -0.   1.  -2.4  1.7  0.2]]\n",
      "*********************************\n",
      "The Sum of A’s columns elements after row reduction 3.0\n"
     ]
    }
   ],
   "source": [
    "def SolveLinearSystem(A,B):\n",
    "    C = np.concatenate((A,B), axis = 1)\n",
    "    C.dtype = 'float64'\n",
    "    pivot = 0\n",
    "    for pivotrow in range(A.shape[0]):\n",
    "        if C[pivotrow][pivot] == 0: #swap the first row that doesn't have a zero in pivot element\n",
    "            swaprow = C[pivotrow]\n",
    "            swapedrow = pivotrow + 1\n",
    "            while swapedrow < A.shape[0]:\n",
    "                if C[swapedrow][pivot] != 0:\n",
    "                    C[pivotrow] = C[swapedrow]\n",
    "                    C[swapedrow] = swaprow\n",
    "                    break\n",
    "                else:\n",
    "                    swapedrow = swapedrow + 1\n",
    "\n",
    "        targetrows = list(range(A.shape[0])) #list of the rows without pivot row\n",
    "        del targetrows[pivotrow] # remove pivot row from list\n",
    "\n",
    "        for targetrow in targetrows:\n",
    "            reducerow(C, pivotrow, targetrow, pivot) #call reducerow for target row to reach RREF\n",
    "        pivot = pivot + 1 #go to the next pivot\n",
    "     \n",
    "    return (np.sum(C[:,0:A.shape[1]]), C) # return summation of A’s columns elements after row reduction, and Matrix C\n",
    "\n",
    "A= np.array([[2,0,-6],[0,1,2],[3,6,-2]], dtype = \"float64\")\n",
    "B = np.array([[2,-1,-6],[-2,1,2],[3,-4,2]], dtype=np.float64)\n",
    "print(\"Matrix A: \")\n",
    "print(A)\n",
    "print('*********************************')\n",
    "print(\"Matrix B: \")\n",
    "print(B)\n",
    "print('*********************************')\n",
    "summation, C = SolveLinearSystem(A,B)\n",
    "print(\"Matrix C After Applying RREF: \")\n",
    "print(C)\n",
    "print('*********************************')\n",
    "print('The Sum of A’s columns elements after row reduction', summation)"
   ]
  },
  {
   "cell_type": "markdown",
   "id": "ceb1169b",
   "metadata": {},
   "source": [
    "# Question 6:\n",
    "### Call “SolveLinearSystem” to solve the systems 1 and 2 you previously created in Q3."
   ]
  },
  {
   "cell_type": "markdown",
   "id": "103cc7da",
   "metadata": {},
   "source": [
    "### Applying for System 1:"
   ]
  },
  {
   "cell_type": "code",
   "execution_count": 106,
   "id": "27ba9172",
   "metadata": {},
   "outputs": [
    {
     "name": "stdout",
     "output_type": "stream",
     "text": [
      "Matrix A: \n",
      "[[ 1.5   5.75  2.6 ]\n",
      " [ 1.    1.    1.  ]\n",
      " [ 0.    1.   -1.  ]]\n",
      "*********************************\n",
      "Matrix B: \n",
      "[[589.5]\n",
      " [200. ]\n",
      " [-20. ]]\n",
      "*********************************\n",
      "Matrix C After Applying RREF: \n",
      "[[ 1.  0.  0. 80.]\n",
      " [ 0.  1.  0. 50.]\n",
      " [-0. -0.  1. 70.]]\n",
      "*********************************\n",
      "The Sum of A’s columns elements after row reduction 3.0\n"
     ]
    }
   ],
   "source": [
    "A = np.array([[1.5,5.75,2.6], [1,1,1], [0,1,-1]], dtype=np.float64)\n",
    "B = np.array([[589.5],[200],[-20]], dtype=np.float64)\n",
    "print(\"Matrix A: \")\n",
    "print(A)\n",
    "print('*********************************')\n",
    "print(\"Matrix B: \")\n",
    "print(B)\n",
    "print('*********************************')\n",
    "summation, C = SolveLinearSystem(A,B)\n",
    "print(\"Matrix C After Applying RREF: \")\n",
    "print(C)\n",
    "print('*********************************')\n",
    "print('The Sum of A’s columns elements after row reduction', summation)"
   ]
  },
  {
   "cell_type": "markdown",
   "id": "7f7ecc0f",
   "metadata": {},
   "source": [
    "### Applying for System 2:"
   ]
  },
  {
   "cell_type": "code",
   "execution_count": 107,
   "id": "89fad977",
   "metadata": {},
   "outputs": [
    {
     "name": "stdout",
     "output_type": "stream",
     "text": [
      "Matrix A: \n",
      "[[ 2.  1. -3.]\n",
      " [ 4.  2. -6.]\n",
      " [ 1. -1.  1.]]\n",
      "*********************************\n",
      "Matrix B: \n",
      "[[0.]\n",
      " [0.]\n",
      " [0.]]\n",
      "*********************************\n",
      "Matrix C After Applying RREF: \n",
      "[[ 1.          0.         -0.66666667  0.        ]\n",
      " [ 0.          1.         -1.66666667  0.        ]\n",
      " [ 0.          0.          0.          0.        ]]\n",
      "*********************************\n",
      "The Sum of A’s columns elements after row reduction -0.33333333333333337\n"
     ]
    }
   ],
   "source": [
    "A = np.array([[2,1,-3], [4,2,-6], [1,-1,1]], dtype=np.float64)\n",
    "B = np.array([[0],[0],[0]], dtype=np.float64)\n",
    "print(\"Matrix A: \")\n",
    "print(A)\n",
    "print('*********************************')\n",
    "print(\"Matrix B: \")\n",
    "print(B)\n",
    "print('*********************************')\n",
    "summation, C = SolveLinearSystem(A,B)\n",
    "print(\"Matrix C After Applying RREF: \")\n",
    "print(C)\n",
    "print('*********************************')\n",
    "print('The Sum of A’s columns elements after row reduction', summation)"
   ]
  },
  {
   "cell_type": "markdown",
   "id": "29295976",
   "metadata": {},
   "source": [
    "# Question 7:\n",
    "### For system 1: there is a unique solutuion as all varaibles are basic and the output: X = [[x1],[x2],[x3]] = [[80.],[50.],[70.]]\n",
    "### for system 2: There is no solution as the det(A)=0 then this matrix is invertible."
   ]
  },
  {
   "cell_type": "markdown",
   "id": "1c49f30f",
   "metadata": {},
   "source": [
    "# Question 8: \n",
    "### Type these code lines and check your answers for systems 1 and 2\n",
    "### 1-using x = np.linalg.solve(A, B) (for system 1)\n"
   ]
  },
  {
   "cell_type": "code",
   "execution_count": 108,
   "id": "04aeef72",
   "metadata": {},
   "outputs": [
    {
     "name": "stdout",
     "output_type": "stream",
     "text": [
      "Matrix A: \n",
      "[[ 1.5   5.75  2.6 ]\n",
      " [ 1.    1.    1.  ]\n",
      " [ 0.    1.   -1.  ]]\n",
      "==========Matrix Properties============\n",
      "The Matrix is Square\n",
      "Matrix Determinant =  5.35\n",
      "Matrix Rank =  3\n",
      "If The Rank = The Number of Rows:  1\n",
      "*********************************\n",
      "Matrix B: \n",
      "[[589.5]\n",
      " [200. ]\n",
      " [-20. ]]\n",
      "==========Matrix Properties============\n",
      "The Matrix is not Square\n",
      "Matrix Rank =  1\n",
      "If The Rank = The Number of Rows:  0\n",
      "*********************************\n",
      "Matrix X: \n",
      "[[80.]\n",
      " [50.]\n",
      " [70.]]\n",
      "==========Matrix Properties============\n",
      "The Matrix is not Square\n",
      "Matrix Rank =  1\n",
      "If The Rank = The Number of Rows:  0\n"
     ]
    }
   ],
   "source": [
    "A = np.array([[1.5,5.75,2.6], [1,1,1], [0,1,-1]], dtype=np.float64)\n",
    "B = np.array([[589.5],[200],[-20]], dtype=np.float64)\n",
    "print('Matrix A: ')\n",
    "print(A)\n",
    "print('==========Matrix Properties============')\n",
    "print('If The Rank = The Number of Rows: ', Props(A))\n",
    "print('*********************************')\n",
    "print('Matrix B: ')\n",
    "print(B)\n",
    "print('==========Matrix Properties============')\n",
    "print('If The Rank = The Number of Rows: ', Props(B))\n",
    "print('*********************************')\n",
    "if np.linalg.det(A) == 0: #if det(A)=0 then A is not invertible \n",
    "    print('X is A Singular matrix!!')\n",
    "else:\n",
    "    X = np.linalg.solve(A, B) \n",
    "    print('Matrix X: ')\n",
    "    print(X)\n",
    "    print('==========Matrix Properties============')\n",
    "    print('If The Rank = The Number of Rows: ', Props(X))"
   ]
  },
  {
   "cell_type": "markdown",
   "id": "7564fcb4",
   "metadata": {},
   "source": [
    "### 1-using x = np.linalg.solve(A, B) (for system 2)"
   ]
  },
  {
   "cell_type": "code",
   "execution_count": 109,
   "id": "75693ce4",
   "metadata": {},
   "outputs": [
    {
     "name": "stdout",
     "output_type": "stream",
     "text": [
      "Matrix A: \n",
      "[[ 2.  1. -3.]\n",
      " [ 4.  2. -6.]\n",
      " [ 1. -1.  1.]]\n",
      "==========Matrix Properties============\n",
      "The Matrix is Square\n",
      "Matrix Determinant =  0.0\n",
      "Matrix Rank =  2\n",
      "If The Rank = The Number of Rows:  0\n",
      "*********************************\n",
      "Matrix B: \n",
      "[[0.]\n",
      " [0.]\n",
      " [0.]]\n",
      "==========Matrix Properties============\n",
      "The Matrix is not Square\n",
      "Matrix Rank =  0\n",
      "If The Rank = The Number of Rows:  0\n",
      "*********************************\n",
      "X is A Singular matrix!!\n"
     ]
    }
   ],
   "source": [
    "A = np.array([[2,1,-3], [4,2,-6], [1,-1,1]], dtype=np.float64)\n",
    "B = np.array([[0],[0],[0]], dtype=np.float64)\n",
    "print('Matrix A: ')\n",
    "print(A)\n",
    "print('==========Matrix Properties============')\n",
    "print('If The Rank = The Number of Rows: ', Props(A))\n",
    "print('*********************************')\n",
    "print('Matrix B: ')\n",
    "print(B)\n",
    "print('==========Matrix Properties============')\n",
    "print('If The Rank = The Number of Rows: ', Props(B))\n",
    "print('*********************************')\n",
    "if np.linalg.det(A) == 0: #if det(A)=0 then A is not invertible \n",
    "    print('X is A Singular matrix!!')\n",
    "else:\n",
    "    X = np.linalg.solve(A, B) \n",
    "    print('Matrix X: ')\n",
    "    print(X)\n",
    "    print('==========Matrix Properties============')\n",
    "    print('If The Rank = The Number of Rows: ', Props(X))"
   ]
  },
  {
   "cell_type": "markdown",
   "id": "e668eb58",
   "metadata": {},
   "source": [
    "### 2-using np.allclose(np.dot(A, x), B) (for system 1)"
   ]
  },
  {
   "cell_type": "code",
   "execution_count": 110,
   "id": "33664b69",
   "metadata": {},
   "outputs": [
    {
     "name": "stdout",
     "output_type": "stream",
     "text": [
      "Matrix A: \n",
      "[[ 1.5   5.75  2.6 ]\n",
      " [ 1.    1.    1.  ]\n",
      " [ 0.    1.   -1.  ]]\n",
      "==========Matrix Properties============\n",
      "The Matrix is Square\n",
      "Matrix Determinant =  5.35\n",
      "Matrix Rank =  3\n",
      "If The Rank = The Number of Rows:  1\n",
      "*********************************\n",
      "Matrix B: \n",
      "[[589.5]\n",
      " [200. ]\n",
      " [-20. ]]\n",
      "==========Matrix Properties============\n",
      "The Matrix is not Square\n",
      "Matrix Rank =  1\n",
      "If The Rank = The Number of Rows:  0\n",
      "*********************************\n",
      "Matrix X: \n",
      "[[80.]\n",
      " [50.]\n",
      " [70.]]\n",
      "==========Matrix Properties============\n",
      "The Matrix is not Square\n",
      "Matrix Rank =  1\n",
      "If The Rank = The Number of Rows:  0\n"
     ]
    }
   ],
   "source": [
    "A = np.array([[1.5,5.75,2.6], [1,1,1], [0,1,-1]], dtype=np.float64)\n",
    "B = np.array([[589.5],[200],[-20]], dtype=np.float64)\n",
    "print('Matrix A: ')\n",
    "print(A)\n",
    "print('==========Matrix Properties============')\n",
    "print('If The Rank = The Number of Rows: ', Props(A))\n",
    "print('*********************************')\n",
    "print('Matrix B: ')\n",
    "print(B)\n",
    "print('==========Matrix Properties============')\n",
    "print('If The Rank = The Number of Rows: ', Props(B))\n",
    "print('*********************************')\n",
    "if np.linalg.det(A) == 0: #if det(A)=0 then A is not invertible \n",
    "    print('X is A Singular matrix!!')\n",
    "else:\n",
    "    np.allclose(np.dot(A, X), B)  \n",
    "    print('Matrix X: ')\n",
    "    print(X)\n",
    "    print('==========Matrix Properties============')\n",
    "    print('If The Rank = The Number of Rows: ', Props(X))"
   ]
  },
  {
   "cell_type": "markdown",
   "id": "0c925782",
   "metadata": {},
   "source": [
    "### 2-using np.allclose(np.dot(A, x), B) (for system 2)"
   ]
  },
  {
   "cell_type": "code",
   "execution_count": 111,
   "id": "0cd6f1a6",
   "metadata": {},
   "outputs": [
    {
     "name": "stdout",
     "output_type": "stream",
     "text": [
      "Matrix A: \n",
      "[[ 2.  1. -3.]\n",
      " [ 4.  2. -6.]\n",
      " [ 1. -1.  1.]]\n",
      "==========Matrix Properties============\n",
      "The Matrix is Square\n",
      "Matrix Determinant =  0.0\n",
      "Matrix Rank =  2\n",
      "If The Rank = The Number of Rows:  0\n",
      "*********************************\n",
      "Matrix B: \n",
      "[[0.]\n",
      " [0.]\n",
      " [0.]]\n",
      "==========Matrix Properties============\n",
      "The Matrix is not Square\n",
      "Matrix Rank =  0\n",
      "If The Rank = The Number of Rows:  0\n",
      "*********************************\n",
      "X is A Singular matrix!!\n"
     ]
    }
   ],
   "source": [
    "A = np.array([[2,1,-3], [4,2,-6], [1,-1,1]], dtype=np.float64)\n",
    "B = np.array([[0],[0],[0]], dtype=np.float64)\n",
    "print('Matrix A: ')\n",
    "print(A)\n",
    "print('==========Matrix Properties============')\n",
    "print('If The Rank = The Number of Rows: ', Props(A))\n",
    "print('*********************************')\n",
    "print('Matrix B: ')\n",
    "print(B)\n",
    "print('==========Matrix Properties============')\n",
    "print('If The Rank = The Number of Rows: ', Props(B))\n",
    "print('*********************************')\n",
    "if np.linalg.det(A) == 0: #if det(A)=0 then A is not invertible \n",
    "    print('X is A Singular matrix!!')\n",
    "else:\n",
    "    np.allclose(np.dot(A, X), B) \n",
    "    print('Matrix X: ')\n",
    "    print(X)\n",
    "    print('==========Matrix Properties============')\n",
    "    print('If The Rank = The Number of Rows: ', Props(X))"
   ]
  },
  {
   "cell_type": "markdown",
   "id": "ad2d7397",
   "metadata": {},
   "source": [
    "# Question 9:\n",
    "### Call the same function “SolveLinearSystem” to get inv(A) for systems 1 and 2\n",
    "### 1- using SolveLinearSystem(A,I) to get inv(A) (for systems 1) \n"
   ]
  },
  {
   "cell_type": "code",
   "execution_count": 112,
   "id": "f1d76a2c",
   "metadata": {},
   "outputs": [
    {
     "name": "stdout",
     "output_type": "stream",
     "text": [
      "Matrix A: \n",
      "[[ 1.5   5.75  2.6 ]\n",
      " [ 1.    1.    1.  ]\n",
      " [ 0.    1.   -1.  ]]\n",
      "*********************************\n",
      "Matrix B: \n",
      "[[1. 0. 0.]\n",
      " [0. 1. 0.]\n",
      " [0. 0. 1.]]\n",
      "*********************************\n",
      "Inverse Matrix of A: \n",
      "[[ 1.          0.          0.         -0.37383178  1.56074766  0.58878505]\n",
      " [ 0.          1.          0.          0.18691589 -0.28037383  0.20560748]\n",
      " [-0.         -0.          1.          0.18691589 -0.28037383 -0.79439252]]\n",
      "*********************************\n",
      "The Sum of A’s columns elements after row reduction 3.0\n"
     ]
    }
   ],
   "source": [
    "A = np.array([[1.5,5.75,2.6], [1,1,1], [0,1,-1]], dtype=np.float64)\n",
    "B = np.array([[1,0,0], [0,1,0], [0,0,1]], dtype=np.float64)\n",
    "print(\"Matrix A: \")\n",
    "print(A)\n",
    "print('*********************************')\n",
    "print(\"Matrix B: \")\n",
    "print(B)\n",
    "print('*********************************')\n",
    "summation, C = SolveLinearSystem(A,B)\n",
    "print(\"Inverse Matrix of A: \")\n",
    "print(C)\n",
    "print('*********************************')\n",
    "print('The Sum of A’s columns elements after row reduction', summation)"
   ]
  },
  {
   "cell_type": "markdown",
   "id": "befac136",
   "metadata": {},
   "source": [
    "### 2- using SolveLinearSystem(A,I) to get inv(A) (for systems 2) \n",
    "#### This has no inverse since det(A)=0"
   ]
  },
  {
   "cell_type": "code",
   "execution_count": 113,
   "id": "d853c867",
   "metadata": {},
   "outputs": [
    {
     "name": "stdout",
     "output_type": "stream",
     "text": [
      "Matrix A: \n",
      "[[ 2.  1. -3.]\n",
      " [ 4.  2. -6.]\n",
      " [ 1. -1.  1.]]\n",
      "*********************************\n",
      "Matrix B: \n",
      "[[1. 0. 0.]\n",
      " [0. 1. 0.]\n",
      " [0. 0. 1.]]\n",
      "*********************************\n",
      "Inverse Matrix of A: \n",
      "[[ 1.          0.         -0.66666667  0.33333333  0.          0.33333333]\n",
      " [ 0.          1.         -1.66666667  0.33333333  0.         -0.66666667]\n",
      " [ 0.          0.          0.          0.          0.          0.        ]]\n",
      "*********************************\n",
      "The Sum of A’s columns elements after row reduction -0.33333333333333337\n"
     ]
    }
   ],
   "source": [
    "A = np.array([[2,1,-3], [4,2,-6], [1,-1,1]], dtype=np.float64)\n",
    "B = np.array([[1,0,0], [0,1,0], [0,0,1]], dtype=np.float64)\n",
    "print(\"Matrix A: \")\n",
    "print(A)\n",
    "print('*********************************')\n",
    "print(\"Matrix B: \")\n",
    "print(B)\n",
    "print('*********************************')\n",
    "summation, C = SolveLinearSystem(A,B)\n",
    "print(\"Inverse Matrix of A: \")\n",
    "print(C)\n",
    "print('*********************************')\n",
    "print('The Sum of A’s columns elements after row reduction', summation)"
   ]
  },
  {
   "cell_type": "markdown",
   "id": "234da526",
   "metadata": {},
   "source": [
    "# Question 10:"
   ]
  },
  {
   "cell_type": "markdown",
   "id": "bc5f7c06",
   "metadata": {},
   "source": [
    "### 1- using np.linalg.inv(A) to get inv(A) (for systems 1) "
   ]
  },
  {
   "cell_type": "code",
   "execution_count": 114,
   "id": "b202eb8a",
   "metadata": {},
   "outputs": [
    {
     "name": "stdout",
     "output_type": "stream",
     "text": [
      "Matrix A: \n",
      "[[ 1.5   5.75  2.6 ]\n",
      " [ 1.    1.    1.  ]\n",
      " [ 0.    1.   -1.  ]]\n",
      "*********************************\n",
      "Matrix B: \n",
      "[[1. 0. 0.]\n",
      " [0. 1. 0.]\n",
      " [0. 0. 1.]]\n",
      "*********************************\n",
      "Inverse Matrix of A:  [[-0.37383178  1.56074766  0.58878505]\n",
      " [ 0.18691589 -0.28037383  0.20560748]\n",
      " [ 0.18691589 -0.28037383 -0.79439252]]\n"
     ]
    }
   ],
   "source": [
    "A = np.array([[1.5,5.75,2.6], [1,1,1], [0,1,-1]], dtype=np.float64)\n",
    "B = np.array([[1,0,0], [0,1,0], [0,0,1]], dtype=np.float64)\n",
    "print(\"Matrix A: \")\n",
    "print(A)\n",
    "print('*********************************')\n",
    "print(\"Matrix B: \")\n",
    "print(B)\n",
    "print('*********************************')\n",
    "print('Inverse Matrix of A: ', np.linalg.inv(A))"
   ]
  },
  {
   "cell_type": "markdown",
   "id": "d7045ba1",
   "metadata": {},
   "source": [
    "### 2- using np.linalg.inv(A) to get inv(A) (for systems 2) \n",
    "#### This has no inverse since det(A)=0"
   ]
  },
  {
   "cell_type": "code",
   "execution_count": 115,
   "id": "4c7d5a7b",
   "metadata": {},
   "outputs": [
    {
     "name": "stdout",
     "output_type": "stream",
     "text": [
      "Matrix A: \n",
      "[[ 2.  1. -3.]\n",
      " [ 4.  2. -6.]\n",
      " [ 1. -1.  1.]]\n",
      "*********************************\n",
      "Matrix B: \n",
      "[[1. 0. 0.]\n",
      " [0. 1. 0.]\n",
      " [0. 0. 1.]]\n",
      "*********************************\n"
     ]
    },
    {
     "ename": "LinAlgError",
     "evalue": "Singular matrix",
     "output_type": "error",
     "traceback": [
      "\u001b[1;31m---------------------------------------------------------------------------\u001b[0m",
      "\u001b[1;31mLinAlgError\u001b[0m                               Traceback (most recent call last)",
      "\u001b[1;32m~\\AppData\\Local\\Temp/ipykernel_7432/2563979682.py\u001b[0m in \u001b[0;36m<module>\u001b[1;34m\u001b[0m\n\u001b[0;32m      7\u001b[0m \u001b[0mprint\u001b[0m\u001b[1;33m(\u001b[0m\u001b[0mB\u001b[0m\u001b[1;33m)\u001b[0m\u001b[1;33m\u001b[0m\u001b[1;33m\u001b[0m\u001b[0m\n\u001b[0;32m      8\u001b[0m \u001b[0mprint\u001b[0m\u001b[1;33m(\u001b[0m\u001b[1;34m'*********************************'\u001b[0m\u001b[1;33m)\u001b[0m\u001b[1;33m\u001b[0m\u001b[1;33m\u001b[0m\u001b[0m\n\u001b[1;32m----> 9\u001b[1;33m \u001b[0mprint\u001b[0m\u001b[1;33m(\u001b[0m\u001b[1;34m'Inverse Matrix of A: '\u001b[0m\u001b[1;33m,\u001b[0m \u001b[0mnp\u001b[0m\u001b[1;33m.\u001b[0m\u001b[0mlinalg\u001b[0m\u001b[1;33m.\u001b[0m\u001b[0minv\u001b[0m\u001b[1;33m(\u001b[0m\u001b[0mA\u001b[0m\u001b[1;33m)\u001b[0m\u001b[1;33m)\u001b[0m\u001b[1;33m\u001b[0m\u001b[1;33m\u001b[0m\u001b[0m\n\u001b[0m",
      "\u001b[1;32m<__array_function__ internals>\u001b[0m in \u001b[0;36minv\u001b[1;34m(*args, **kwargs)\u001b[0m\n",
      "\u001b[1;32m~\\Anaconda3\\lib\\site-packages\\numpy\\linalg\\linalg.py\u001b[0m in \u001b[0;36minv\u001b[1;34m(a)\u001b[0m\n\u001b[0;32m    543\u001b[0m     \u001b[0msignature\u001b[0m \u001b[1;33m=\u001b[0m \u001b[1;34m'D->D'\u001b[0m \u001b[1;32mif\u001b[0m \u001b[0misComplexType\u001b[0m\u001b[1;33m(\u001b[0m\u001b[0mt\u001b[0m\u001b[1;33m)\u001b[0m \u001b[1;32melse\u001b[0m \u001b[1;34m'd->d'\u001b[0m\u001b[1;33m\u001b[0m\u001b[1;33m\u001b[0m\u001b[0m\n\u001b[0;32m    544\u001b[0m     \u001b[0mextobj\u001b[0m \u001b[1;33m=\u001b[0m \u001b[0mget_linalg_error_extobj\u001b[0m\u001b[1;33m(\u001b[0m\u001b[0m_raise_linalgerror_singular\u001b[0m\u001b[1;33m)\u001b[0m\u001b[1;33m\u001b[0m\u001b[1;33m\u001b[0m\u001b[0m\n\u001b[1;32m--> 545\u001b[1;33m     \u001b[0mainv\u001b[0m \u001b[1;33m=\u001b[0m \u001b[0m_umath_linalg\u001b[0m\u001b[1;33m.\u001b[0m\u001b[0minv\u001b[0m\u001b[1;33m(\u001b[0m\u001b[0ma\u001b[0m\u001b[1;33m,\u001b[0m \u001b[0msignature\u001b[0m\u001b[1;33m=\u001b[0m\u001b[0msignature\u001b[0m\u001b[1;33m,\u001b[0m \u001b[0mextobj\u001b[0m\u001b[1;33m=\u001b[0m\u001b[0mextobj\u001b[0m\u001b[1;33m)\u001b[0m\u001b[1;33m\u001b[0m\u001b[1;33m\u001b[0m\u001b[0m\n\u001b[0m\u001b[0;32m    546\u001b[0m     \u001b[1;32mreturn\u001b[0m \u001b[0mwrap\u001b[0m\u001b[1;33m(\u001b[0m\u001b[0mainv\u001b[0m\u001b[1;33m.\u001b[0m\u001b[0mastype\u001b[0m\u001b[1;33m(\u001b[0m\u001b[0mresult_t\u001b[0m\u001b[1;33m,\u001b[0m \u001b[0mcopy\u001b[0m\u001b[1;33m=\u001b[0m\u001b[1;32mFalse\u001b[0m\u001b[1;33m)\u001b[0m\u001b[1;33m)\u001b[0m\u001b[1;33m\u001b[0m\u001b[1;33m\u001b[0m\u001b[0m\n\u001b[0;32m    547\u001b[0m \u001b[1;33m\u001b[0m\u001b[0m\n",
      "\u001b[1;32m~\\Anaconda3\\lib\\site-packages\\numpy\\linalg\\linalg.py\u001b[0m in \u001b[0;36m_raise_linalgerror_singular\u001b[1;34m(err, flag)\u001b[0m\n\u001b[0;32m     86\u001b[0m \u001b[1;33m\u001b[0m\u001b[0m\n\u001b[0;32m     87\u001b[0m \u001b[1;32mdef\u001b[0m \u001b[0m_raise_linalgerror_singular\u001b[0m\u001b[1;33m(\u001b[0m\u001b[0merr\u001b[0m\u001b[1;33m,\u001b[0m \u001b[0mflag\u001b[0m\u001b[1;33m)\u001b[0m\u001b[1;33m:\u001b[0m\u001b[1;33m\u001b[0m\u001b[1;33m\u001b[0m\u001b[0m\n\u001b[1;32m---> 88\u001b[1;33m     \u001b[1;32mraise\u001b[0m \u001b[0mLinAlgError\u001b[0m\u001b[1;33m(\u001b[0m\u001b[1;34m\"Singular matrix\"\u001b[0m\u001b[1;33m)\u001b[0m\u001b[1;33m\u001b[0m\u001b[1;33m\u001b[0m\u001b[0m\n\u001b[0m\u001b[0;32m     89\u001b[0m \u001b[1;33m\u001b[0m\u001b[0m\n\u001b[0;32m     90\u001b[0m \u001b[1;32mdef\u001b[0m \u001b[0m_raise_linalgerror_nonposdef\u001b[0m\u001b[1;33m(\u001b[0m\u001b[0merr\u001b[0m\u001b[1;33m,\u001b[0m \u001b[0mflag\u001b[0m\u001b[1;33m)\u001b[0m\u001b[1;33m:\u001b[0m\u001b[1;33m\u001b[0m\u001b[1;33m\u001b[0m\u001b[0m\n",
      "\u001b[1;31mLinAlgError\u001b[0m: Singular matrix"
     ]
    }
   ],
   "source": [
    "A = np.array([[2,1,-3], [4,2,-6], [1,-1,1]], dtype=np.float64)\n",
    "B = np.array([[1,0,0], [0,1,0], [0,0,1]], dtype=np.float64)\n",
    "print(\"Matrix A: \")\n",
    "print(A)\n",
    "print('*********************************')\n",
    "print(\"Matrix B: \")\n",
    "print(B)\n",
    "print('*********************************')\n",
    "print('Inverse Matrix of A: ', np.linalg.inv(A))"
   ]
  },
  {
   "cell_type": "code",
   "execution_count": null,
   "id": "7981337e",
   "metadata": {},
   "outputs": [],
   "source": []
  }
 ],
 "metadata": {
  "kernelspec": {
   "display_name": "Python 3 (ipykernel)",
   "language": "python",
   "name": "python3"
  },
  "language_info": {
   "codemirror_mode": {
    "name": "ipython",
    "version": 3
   },
   "file_extension": ".py",
   "mimetype": "text/x-python",
   "name": "python",
   "nbconvert_exporter": "python",
   "pygments_lexer": "ipython3",
   "version": "3.7.3"
  }
 },
 "nbformat": 4,
 "nbformat_minor": 5
}
